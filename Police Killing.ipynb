{
 "cells": [
  {
   "cell_type": "code",
   "execution_count": 1,
   "id": "1f77c95c",
   "metadata": {},
   "outputs": [],
   "source": [
    "import numpy as np\n",
    "import pandas as pd\n",
    "import matplotlib.pyplot as plt\n",
    "%matplotlib inline\n",
    "import seaborn as sns"
   ]
  },
  {
   "cell_type": "code",
   "execution_count": 2,
   "id": "d9f9892e",
   "metadata": {},
   "outputs": [],
   "source": [
    "data = pd.read_csv(r'C:\\Users\\user\\Documents\\DataSet\\police_killings.csv')"
   ]
  },
  {
   "cell_type": "code",
   "execution_count": 3,
   "id": "4b0f8d91",
   "metadata": {},
   "outputs": [
    {
     "data": {
      "text/html": [
       "<div>\n",
       "<style scoped>\n",
       "    .dataframe tbody tr th:only-of-type {\n",
       "        vertical-align: middle;\n",
       "    }\n",
       "\n",
       "    .dataframe tbody tr th {\n",
       "        vertical-align: top;\n",
       "    }\n",
       "\n",
       "    .dataframe thead th {\n",
       "        text-align: right;\n",
       "    }\n",
       "</style>\n",
       "<table border=\"1\" class=\"dataframe\">\n",
       "  <thead>\n",
       "    <tr style=\"text-align: right;\">\n",
       "      <th></th>\n",
       "      <th>name</th>\n",
       "      <th>age</th>\n",
       "      <th>gender</th>\n",
       "      <th>raceethnicity</th>\n",
       "      <th>month</th>\n",
       "      <th>day</th>\n",
       "      <th>year</th>\n",
       "      <th>streetaddress</th>\n",
       "      <th>city</th>\n",
       "      <th>state</th>\n",
       "      <th>...</th>\n",
       "      <th>share_hispanic</th>\n",
       "      <th>p_income</th>\n",
       "      <th>h_income</th>\n",
       "      <th>county_income</th>\n",
       "      <th>comp_income</th>\n",
       "      <th>county_bucket</th>\n",
       "      <th>nat_bucket</th>\n",
       "      <th>pov</th>\n",
       "      <th>urate</th>\n",
       "      <th>college</th>\n",
       "    </tr>\n",
       "  </thead>\n",
       "  <tbody>\n",
       "    <tr>\n",
       "      <th>0</th>\n",
       "      <td>A'donte Washington</td>\n",
       "      <td>16</td>\n",
       "      <td>Male</td>\n",
       "      <td>Black</td>\n",
       "      <td>February</td>\n",
       "      <td>23</td>\n",
       "      <td>2015</td>\n",
       "      <td>Clearview Ln</td>\n",
       "      <td>Millbrook</td>\n",
       "      <td>AL</td>\n",
       "      <td>...</td>\n",
       "      <td>5.6</td>\n",
       "      <td>28375</td>\n",
       "      <td>51367.0</td>\n",
       "      <td>54766</td>\n",
       "      <td>0.937936</td>\n",
       "      <td>3.0</td>\n",
       "      <td>3.0</td>\n",
       "      <td>14.1</td>\n",
       "      <td>0.097686</td>\n",
       "      <td>0.168510</td>\n",
       "    </tr>\n",
       "    <tr>\n",
       "      <th>1</th>\n",
       "      <td>Aaron Rutledge</td>\n",
       "      <td>27</td>\n",
       "      <td>Male</td>\n",
       "      <td>White</td>\n",
       "      <td>April</td>\n",
       "      <td>2</td>\n",
       "      <td>2015</td>\n",
       "      <td>300 block Iris Park Dr</td>\n",
       "      <td>Pineville</td>\n",
       "      <td>LA</td>\n",
       "      <td>...</td>\n",
       "      <td>0.5</td>\n",
       "      <td>14678</td>\n",
       "      <td>27972.0</td>\n",
       "      <td>40930</td>\n",
       "      <td>0.683411</td>\n",
       "      <td>2.0</td>\n",
       "      <td>1.0</td>\n",
       "      <td>28.8</td>\n",
       "      <td>0.065724</td>\n",
       "      <td>0.111402</td>\n",
       "    </tr>\n",
       "    <tr>\n",
       "      <th>2</th>\n",
       "      <td>Aaron Siler</td>\n",
       "      <td>26</td>\n",
       "      <td>Male</td>\n",
       "      <td>White</td>\n",
       "      <td>March</td>\n",
       "      <td>14</td>\n",
       "      <td>2015</td>\n",
       "      <td>22nd Ave and 56th St</td>\n",
       "      <td>Kenosha</td>\n",
       "      <td>WI</td>\n",
       "      <td>...</td>\n",
       "      <td>16.8</td>\n",
       "      <td>25286</td>\n",
       "      <td>45365.0</td>\n",
       "      <td>54930</td>\n",
       "      <td>0.825869</td>\n",
       "      <td>2.0</td>\n",
       "      <td>3.0</td>\n",
       "      <td>14.6</td>\n",
       "      <td>0.166293</td>\n",
       "      <td>0.147312</td>\n",
       "    </tr>\n",
       "    <tr>\n",
       "      <th>3</th>\n",
       "      <td>Aaron Valdez</td>\n",
       "      <td>25</td>\n",
       "      <td>Male</td>\n",
       "      <td>Hispanic/Latino</td>\n",
       "      <td>March</td>\n",
       "      <td>11</td>\n",
       "      <td>2015</td>\n",
       "      <td>3000 Seminole Ave</td>\n",
       "      <td>South Gate</td>\n",
       "      <td>CA</td>\n",
       "      <td>...</td>\n",
       "      <td>98.8</td>\n",
       "      <td>17194</td>\n",
       "      <td>48295.0</td>\n",
       "      <td>55909</td>\n",
       "      <td>0.863814</td>\n",
       "      <td>3.0</td>\n",
       "      <td>3.0</td>\n",
       "      <td>11.7</td>\n",
       "      <td>0.124827</td>\n",
       "      <td>0.050133</td>\n",
       "    </tr>\n",
       "    <tr>\n",
       "      <th>4</th>\n",
       "      <td>Adam Jovicic</td>\n",
       "      <td>29</td>\n",
       "      <td>Male</td>\n",
       "      <td>White</td>\n",
       "      <td>March</td>\n",
       "      <td>19</td>\n",
       "      <td>2015</td>\n",
       "      <td>364 Hiwood Ave</td>\n",
       "      <td>Munroe Falls</td>\n",
       "      <td>OH</td>\n",
       "      <td>...</td>\n",
       "      <td>1.7</td>\n",
       "      <td>33954</td>\n",
       "      <td>68785.0</td>\n",
       "      <td>49669</td>\n",
       "      <td>1.384868</td>\n",
       "      <td>5.0</td>\n",
       "      <td>4.0</td>\n",
       "      <td>1.9</td>\n",
       "      <td>0.063550</td>\n",
       "      <td>0.403954</td>\n",
       "    </tr>\n",
       "  </tbody>\n",
       "</table>\n",
       "<p>5 rows × 34 columns</p>\n",
       "</div>"
      ],
      "text/plain": [
       "                 name age gender    raceethnicity     month  day  year  \\\n",
       "0  A'donte Washington  16   Male            Black  February   23  2015   \n",
       "1      Aaron Rutledge  27   Male            White     April    2  2015   \n",
       "2         Aaron Siler  26   Male            White     March   14  2015   \n",
       "3        Aaron Valdez  25   Male  Hispanic/Latino     March   11  2015   \n",
       "4        Adam Jovicic  29   Male            White     March   19  2015   \n",
       "\n",
       "            streetaddress          city state  ...  share_hispanic  p_income  \\\n",
       "0            Clearview Ln     Millbrook    AL  ...             5.6     28375   \n",
       "1  300 block Iris Park Dr     Pineville    LA  ...             0.5     14678   \n",
       "2    22nd Ave and 56th St       Kenosha    WI  ...            16.8     25286   \n",
       "3       3000 Seminole Ave    South Gate    CA  ...            98.8     17194   \n",
       "4          364 Hiwood Ave  Munroe Falls    OH  ...             1.7     33954   \n",
       "\n",
       "   h_income  county_income  comp_income  county_bucket  nat_bucket   pov  \\\n",
       "0   51367.0          54766     0.937936            3.0         3.0  14.1   \n",
       "1   27972.0          40930     0.683411            2.0         1.0  28.8   \n",
       "2   45365.0          54930     0.825869            2.0         3.0  14.6   \n",
       "3   48295.0          55909     0.863814            3.0         3.0  11.7   \n",
       "4   68785.0          49669     1.384868            5.0         4.0   1.9   \n",
       "\n",
       "      urate   college  \n",
       "0  0.097686  0.168510  \n",
       "1  0.065724  0.111402  \n",
       "2  0.166293  0.147312  \n",
       "3  0.124827  0.050133  \n",
       "4  0.063550  0.403954  \n",
       "\n",
       "[5 rows x 34 columns]"
      ]
     },
     "execution_count": 3,
     "metadata": {},
     "output_type": "execute_result"
    }
   ],
   "source": [
    "data.head()"
   ]
  },
  {
   "cell_type": "code",
   "execution_count": 4,
   "id": "5a7ecd1f",
   "metadata": {},
   "outputs": [
    {
     "data": {
      "text/html": [
       "<div>\n",
       "<style scoped>\n",
       "    .dataframe tbody tr th:only-of-type {\n",
       "        vertical-align: middle;\n",
       "    }\n",
       "\n",
       "    .dataframe tbody tr th {\n",
       "        vertical-align: top;\n",
       "    }\n",
       "\n",
       "    .dataframe thead th {\n",
       "        text-align: right;\n",
       "    }\n",
       "</style>\n",
       "<table border=\"1\" class=\"dataframe\">\n",
       "  <thead>\n",
       "    <tr style=\"text-align: right;\">\n",
       "      <th></th>\n",
       "      <th>name</th>\n",
       "      <th>age</th>\n",
       "      <th>gender</th>\n",
       "      <th>raceethnicity</th>\n",
       "      <th>month</th>\n",
       "      <th>day</th>\n",
       "      <th>year</th>\n",
       "      <th>streetaddress</th>\n",
       "      <th>city</th>\n",
       "      <th>state</th>\n",
       "      <th>...</th>\n",
       "      <th>share_hispanic</th>\n",
       "      <th>p_income</th>\n",
       "      <th>h_income</th>\n",
       "      <th>county_income</th>\n",
       "      <th>comp_income</th>\n",
       "      <th>county_bucket</th>\n",
       "      <th>nat_bucket</th>\n",
       "      <th>pov</th>\n",
       "      <th>urate</th>\n",
       "      <th>college</th>\n",
       "    </tr>\n",
       "  </thead>\n",
       "  <tbody>\n",
       "    <tr>\n",
       "      <th>462</th>\n",
       "      <td>William Chapman II</td>\n",
       "      <td>18</td>\n",
       "      <td>Male</td>\n",
       "      <td>Black</td>\n",
       "      <td>April</td>\n",
       "      <td>22</td>\n",
       "      <td>2015</td>\n",
       "      <td>1098 Frederick Blvd</td>\n",
       "      <td>Portsmouth</td>\n",
       "      <td>VA</td>\n",
       "      <td>...</td>\n",
       "      <td>0</td>\n",
       "      <td>25262</td>\n",
       "      <td>27418.0</td>\n",
       "      <td>46166</td>\n",
       "      <td>0.593900</td>\n",
       "      <td>1.0</td>\n",
       "      <td>1.0</td>\n",
       "      <td>35.2</td>\n",
       "      <td>0.152047</td>\n",
       "      <td>0.120553</td>\n",
       "    </tr>\n",
       "    <tr>\n",
       "      <th>463</th>\n",
       "      <td>William Dick III</td>\n",
       "      <td>28</td>\n",
       "      <td>Male</td>\n",
       "      <td>Native American</td>\n",
       "      <td>April</td>\n",
       "      <td>4</td>\n",
       "      <td>2015</td>\n",
       "      <td>Bureau of Indian Affairs Rd 66</td>\n",
       "      <td>Tonasket</td>\n",
       "      <td>WA</td>\n",
       "      <td>...</td>\n",
       "      <td>20.2</td>\n",
       "      <td>18470</td>\n",
       "      <td>35608.0</td>\n",
       "      <td>40368</td>\n",
       "      <td>0.882085</td>\n",
       "      <td>1.0</td>\n",
       "      <td>2.0</td>\n",
       "      <td>27.3</td>\n",
       "      <td>0.133650</td>\n",
       "      <td>0.174525</td>\n",
       "    </tr>\n",
       "    <tr>\n",
       "      <th>464</th>\n",
       "      <td>William Poole</td>\n",
       "      <td>52</td>\n",
       "      <td>Male</td>\n",
       "      <td>White</td>\n",
       "      <td>March</td>\n",
       "      <td>16</td>\n",
       "      <td>2015</td>\n",
       "      <td>130 Wedowee Ln</td>\n",
       "      <td>Gaston</td>\n",
       "      <td>NC</td>\n",
       "      <td>...</td>\n",
       "      <td>0.3</td>\n",
       "      <td>21175</td>\n",
       "      <td>38200.0</td>\n",
       "      <td>42017</td>\n",
       "      <td>0.909156</td>\n",
       "      <td>2.0</td>\n",
       "      <td>2.0</td>\n",
       "      <td>28.5</td>\n",
       "      <td>0.256150</td>\n",
       "      <td>0.072764</td>\n",
       "    </tr>\n",
       "    <tr>\n",
       "      <th>465</th>\n",
       "      <td>Yuvette Henderson</td>\n",
       "      <td>38</td>\n",
       "      <td>Female</td>\n",
       "      <td>Black</td>\n",
       "      <td>February</td>\n",
       "      <td>3</td>\n",
       "      <td>2015</td>\n",
       "      <td>3800 Hollis St</td>\n",
       "      <td>Oakland</td>\n",
       "      <td>CA</td>\n",
       "      <td>...</td>\n",
       "      <td>37.1</td>\n",
       "      <td>26971</td>\n",
       "      <td>63052.0</td>\n",
       "      <td>72112</td>\n",
       "      <td>0.874362</td>\n",
       "      <td>2.0</td>\n",
       "      <td>4.0</td>\n",
       "      <td>23.9</td>\n",
       "      <td>0.069601</td>\n",
       "      <td>0.396476</td>\n",
       "    </tr>\n",
       "    <tr>\n",
       "      <th>466</th>\n",
       "      <td>Zaki Shinwary</td>\n",
       "      <td>48</td>\n",
       "      <td>Male</td>\n",
       "      <td>Unknown</td>\n",
       "      <td>January</td>\n",
       "      <td>16</td>\n",
       "      <td>2015</td>\n",
       "      <td>Lake Arrowhead Ave and Great Salt Lake Dr</td>\n",
       "      <td>Fremont</td>\n",
       "      <td>CA</td>\n",
       "      <td>...</td>\n",
       "      <td>12.3</td>\n",
       "      <td>33590</td>\n",
       "      <td>88940.0</td>\n",
       "      <td>72112</td>\n",
       "      <td>1.233359</td>\n",
       "      <td>4.0</td>\n",
       "      <td>5.0</td>\n",
       "      <td>6.1</td>\n",
       "      <td>0.080912</td>\n",
       "      <td>0.435773</td>\n",
       "    </tr>\n",
       "  </tbody>\n",
       "</table>\n",
       "<p>5 rows × 34 columns</p>\n",
       "</div>"
      ],
      "text/plain": [
       "                   name age  gender    raceethnicity     month  day  year  \\\n",
       "462  William Chapman II  18    Male            Black     April   22  2015   \n",
       "463    William Dick III  28    Male  Native American     April    4  2015   \n",
       "464       William Poole  52    Male            White     March   16  2015   \n",
       "465   Yuvette Henderson  38  Female            Black  February    3  2015   \n",
       "466       Zaki Shinwary  48    Male          Unknown   January   16  2015   \n",
       "\n",
       "                                 streetaddress        city state  ...  \\\n",
       "462                        1098 Frederick Blvd  Portsmouth    VA  ...   \n",
       "463             Bureau of Indian Affairs Rd 66    Tonasket    WA  ...   \n",
       "464                             130 Wedowee Ln      Gaston    NC  ...   \n",
       "465                             3800 Hollis St     Oakland    CA  ...   \n",
       "466  Lake Arrowhead Ave and Great Salt Lake Dr     Fremont    CA  ...   \n",
       "\n",
       "     share_hispanic  p_income  h_income  county_income  comp_income  \\\n",
       "462               0     25262   27418.0          46166     0.593900   \n",
       "463            20.2     18470   35608.0          40368     0.882085   \n",
       "464             0.3     21175   38200.0          42017     0.909156   \n",
       "465            37.1     26971   63052.0          72112     0.874362   \n",
       "466            12.3     33590   88940.0          72112     1.233359   \n",
       "\n",
       "     county_bucket  nat_bucket   pov     urate   college  \n",
       "462            1.0         1.0  35.2  0.152047  0.120553  \n",
       "463            1.0         2.0  27.3  0.133650  0.174525  \n",
       "464            2.0         2.0  28.5  0.256150  0.072764  \n",
       "465            2.0         4.0  23.9  0.069601  0.396476  \n",
       "466            4.0         5.0   6.1  0.080912  0.435773  \n",
       "\n",
       "[5 rows x 34 columns]"
      ]
     },
     "execution_count": 4,
     "metadata": {},
     "output_type": "execute_result"
    }
   ],
   "source": [
    "data.tail()"
   ]
  },
  {
   "cell_type": "code",
   "execution_count": 5,
   "id": "8ec840a8",
   "metadata": {},
   "outputs": [
    {
     "data": {
      "text/plain": [
       "Index(['name', 'age', 'gender', 'raceethnicity', 'month', 'day', 'year',\n",
       "       'streetaddress', 'city', 'state', 'latitude', 'longitude', 'state_fp',\n",
       "       'county_fp', 'tract_ce', 'geo_id', 'county_id', 'namelsad',\n",
       "       'lawenforcementagency', 'cause', 'armed', 'pop', 'share_white',\n",
       "       'share_black', 'share_hispanic', 'p_income', 'h_income',\n",
       "       'county_income', 'comp_income', 'county_bucket', 'nat_bucket', 'pov',\n",
       "       'urate', 'college'],\n",
       "      dtype='object')"
      ]
     },
     "execution_count": 5,
     "metadata": {},
     "output_type": "execute_result"
    }
   ],
   "source": [
    "data.columns"
   ]
  },
  {
   "cell_type": "markdown",
   "id": "73aa9eee",
   "metadata": {},
   "source": [
    "#### Selecting the most relevant columns "
   ]
  },
  {
   "cell_type": "code",
   "execution_count": 6,
   "id": "cf16af14",
   "metadata": {},
   "outputs": [],
   "source": [
    "data = data.loc[:,['age', 'gender','raceethnicity','month','day','city','state','lawenforcementagency','cause','armed','pop','share_white',\n",
    "                'share_black', 'share_hispanic','pov','urate','college']]"
   ]
  },
  {
   "cell_type": "code",
   "execution_count": 7,
   "id": "d9a42c07",
   "metadata": {},
   "outputs": [
    {
     "data": {
      "text/html": [
       "<div>\n",
       "<style scoped>\n",
       "    .dataframe tbody tr th:only-of-type {\n",
       "        vertical-align: middle;\n",
       "    }\n",
       "\n",
       "    .dataframe tbody tr th {\n",
       "        vertical-align: top;\n",
       "    }\n",
       "\n",
       "    .dataframe thead th {\n",
       "        text-align: right;\n",
       "    }\n",
       "</style>\n",
       "<table border=\"1\" class=\"dataframe\">\n",
       "  <thead>\n",
       "    <tr style=\"text-align: right;\">\n",
       "      <th></th>\n",
       "      <th>age</th>\n",
       "      <th>gender</th>\n",
       "      <th>raceethnicity</th>\n",
       "      <th>month</th>\n",
       "      <th>day</th>\n",
       "      <th>city</th>\n",
       "      <th>state</th>\n",
       "      <th>lawenforcementagency</th>\n",
       "      <th>cause</th>\n",
       "      <th>armed</th>\n",
       "      <th>pop</th>\n",
       "      <th>share_white</th>\n",
       "      <th>share_black</th>\n",
       "      <th>share_hispanic</th>\n",
       "      <th>pov</th>\n",
       "      <th>urate</th>\n",
       "      <th>college</th>\n",
       "    </tr>\n",
       "  </thead>\n",
       "  <tbody>\n",
       "    <tr>\n",
       "      <th>0</th>\n",
       "      <td>16</td>\n",
       "      <td>Male</td>\n",
       "      <td>Black</td>\n",
       "      <td>February</td>\n",
       "      <td>23</td>\n",
       "      <td>Millbrook</td>\n",
       "      <td>AL</td>\n",
       "      <td>Millbrook Police Department</td>\n",
       "      <td>Gunshot</td>\n",
       "      <td>No</td>\n",
       "      <td>3779</td>\n",
       "      <td>60.5</td>\n",
       "      <td>30.5</td>\n",
       "      <td>5.6</td>\n",
       "      <td>14.1</td>\n",
       "      <td>0.097686</td>\n",
       "      <td>0.168510</td>\n",
       "    </tr>\n",
       "    <tr>\n",
       "      <th>1</th>\n",
       "      <td>27</td>\n",
       "      <td>Male</td>\n",
       "      <td>White</td>\n",
       "      <td>April</td>\n",
       "      <td>2</td>\n",
       "      <td>Pineville</td>\n",
       "      <td>LA</td>\n",
       "      <td>Rapides Parish Sheriff's Office</td>\n",
       "      <td>Gunshot</td>\n",
       "      <td>No</td>\n",
       "      <td>2769</td>\n",
       "      <td>53.8</td>\n",
       "      <td>36.2</td>\n",
       "      <td>0.5</td>\n",
       "      <td>28.8</td>\n",
       "      <td>0.065724</td>\n",
       "      <td>0.111402</td>\n",
       "    </tr>\n",
       "    <tr>\n",
       "      <th>2</th>\n",
       "      <td>26</td>\n",
       "      <td>Male</td>\n",
       "      <td>White</td>\n",
       "      <td>March</td>\n",
       "      <td>14</td>\n",
       "      <td>Kenosha</td>\n",
       "      <td>WI</td>\n",
       "      <td>Kenosha Police Department</td>\n",
       "      <td>Gunshot</td>\n",
       "      <td>No</td>\n",
       "      <td>4079</td>\n",
       "      <td>73.8</td>\n",
       "      <td>7.7</td>\n",
       "      <td>16.8</td>\n",
       "      <td>14.6</td>\n",
       "      <td>0.166293</td>\n",
       "      <td>0.147312</td>\n",
       "    </tr>\n",
       "    <tr>\n",
       "      <th>3</th>\n",
       "      <td>25</td>\n",
       "      <td>Male</td>\n",
       "      <td>Hispanic/Latino</td>\n",
       "      <td>March</td>\n",
       "      <td>11</td>\n",
       "      <td>South Gate</td>\n",
       "      <td>CA</td>\n",
       "      <td>South Gate Police Department</td>\n",
       "      <td>Gunshot</td>\n",
       "      <td>Firearm</td>\n",
       "      <td>4343</td>\n",
       "      <td>1.2</td>\n",
       "      <td>0.6</td>\n",
       "      <td>98.8</td>\n",
       "      <td>11.7</td>\n",
       "      <td>0.124827</td>\n",
       "      <td>0.050133</td>\n",
       "    </tr>\n",
       "    <tr>\n",
       "      <th>4</th>\n",
       "      <td>29</td>\n",
       "      <td>Male</td>\n",
       "      <td>White</td>\n",
       "      <td>March</td>\n",
       "      <td>19</td>\n",
       "      <td>Munroe Falls</td>\n",
       "      <td>OH</td>\n",
       "      <td>Kent Police Department</td>\n",
       "      <td>Gunshot</td>\n",
       "      <td>No</td>\n",
       "      <td>6809</td>\n",
       "      <td>92.5</td>\n",
       "      <td>1.4</td>\n",
       "      <td>1.7</td>\n",
       "      <td>1.9</td>\n",
       "      <td>0.063550</td>\n",
       "      <td>0.403954</td>\n",
       "    </tr>\n",
       "  </tbody>\n",
       "</table>\n",
       "</div>"
      ],
      "text/plain": [
       "  age gender    raceethnicity     month  day          city state  \\\n",
       "0  16   Male            Black  February   23     Millbrook    AL   \n",
       "1  27   Male            White     April    2     Pineville    LA   \n",
       "2  26   Male            White     March   14       Kenosha    WI   \n",
       "3  25   Male  Hispanic/Latino     March   11    South Gate    CA   \n",
       "4  29   Male            White     March   19  Munroe Falls    OH   \n",
       "\n",
       "              lawenforcementagency    cause    armed   pop share_white  \\\n",
       "0      Millbrook Police Department  Gunshot       No  3779        60.5   \n",
       "1  Rapides Parish Sheriff's Office  Gunshot       No  2769        53.8   \n",
       "2        Kenosha Police Department  Gunshot       No  4079        73.8   \n",
       "3     South Gate Police Department  Gunshot  Firearm  4343         1.2   \n",
       "4           Kent Police Department  Gunshot       No  6809        92.5   \n",
       "\n",
       "  share_black share_hispanic   pov     urate   college  \n",
       "0        30.5            5.6  14.1  0.097686  0.168510  \n",
       "1        36.2            0.5  28.8  0.065724  0.111402  \n",
       "2         7.7           16.8  14.6  0.166293  0.147312  \n",
       "3         0.6           98.8  11.7  0.124827  0.050133  \n",
       "4         1.4            1.7   1.9  0.063550  0.403954  "
      ]
     },
     "execution_count": 7,
     "metadata": {},
     "output_type": "execute_result"
    }
   ],
   "source": [
    "data.head()"
   ]
  },
  {
   "cell_type": "code",
   "execution_count": 8,
   "id": "406bb8df",
   "metadata": {},
   "outputs": [
    {
     "name": "stdout",
     "output_type": "stream",
     "text": [
      "<class 'pandas.core.frame.DataFrame'>\n",
      "RangeIndex: 467 entries, 0 to 466\n",
      "Data columns (total 17 columns):\n",
      " #   Column                Non-Null Count  Dtype  \n",
      "---  ------                --------------  -----  \n",
      " 0   age                   467 non-null    object \n",
      " 1   gender                467 non-null    object \n",
      " 2   raceethnicity         467 non-null    object \n",
      " 3   month                 467 non-null    object \n",
      " 4   day                   467 non-null    int64  \n",
      " 5   city                  467 non-null    object \n",
      " 6   state                 467 non-null    object \n",
      " 7   lawenforcementagency  467 non-null    object \n",
      " 8   cause                 467 non-null    object \n",
      " 9   armed                 467 non-null    object \n",
      " 10  pop                   467 non-null    int64  \n",
      " 11  share_white           467 non-null    object \n",
      " 12  share_black           467 non-null    object \n",
      " 13  share_hispanic        467 non-null    object \n",
      " 14  pov                   467 non-null    object \n",
      " 15  urate                 465 non-null    float64\n",
      " 16  college               465 non-null    float64\n",
      "dtypes: float64(2), int64(2), object(13)\n",
      "memory usage: 62.1+ KB\n"
     ]
    }
   ],
   "source": [
    "#Returns basic information of each attributes\n",
    "data.info()"
   ]
  },
  {
   "cell_type": "markdown",
   "id": "ba6ef072",
   "metadata": {},
   "source": [
    "#### Changing the data types of age, poverty and umemployment rate"
   ]
  },
  {
   "cell_type": "code",
   "execution_count": 9,
   "id": "aaa007e5",
   "metadata": {},
   "outputs": [],
   "source": [
    "data['pov']=data['pov'].replace('-',np.nan)"
   ]
  },
  {
   "cell_type": "code",
   "execution_count": 10,
   "id": "6b8f1c36",
   "metadata": {},
   "outputs": [],
   "source": [
    "data['pov']=pd.to_numeric(data['pov']).astype('float')"
   ]
  },
  {
   "cell_type": "code",
   "execution_count": 11,
   "id": "707f2fc9",
   "metadata": {},
   "outputs": [],
   "source": [
    "data['urate']=pd.to_numeric(data['urate']).astype('float')"
   ]
  },
  {
   "cell_type": "markdown",
   "id": "79d833f4",
   "metadata": {},
   "source": [
    "#### Checking the the total number of null values in each column "
   ]
  },
  {
   "cell_type": "code",
   "execution_count": 12,
   "id": "d7388792",
   "metadata": {},
   "outputs": [
    {
     "data": {
      "text/plain": [
       "age                     0\n",
       "gender                  0\n",
       "raceethnicity           0\n",
       "month                   0\n",
       "day                     0\n",
       "city                    0\n",
       "state                   0\n",
       "lawenforcementagency    0\n",
       "cause                   0\n",
       "armed                   0\n",
       "pop                     0\n",
       "share_white             0\n",
       "share_black             0\n",
       "share_hispanic          0\n",
       "pov                     2\n",
       "urate                   2\n",
       "college                 2\n",
       "dtype: int64"
      ]
     },
     "execution_count": 12,
     "metadata": {},
     "output_type": "execute_result"
    }
   ],
   "source": [
    "data.isna().sum()"
   ]
  },
  {
   "cell_type": "code",
   "execution_count": 13,
   "id": "e2838465",
   "metadata": {},
   "outputs": [
    {
     "data": {
      "text/html": [
       "<div>\n",
       "<style scoped>\n",
       "    .dataframe tbody tr th:only-of-type {\n",
       "        vertical-align: middle;\n",
       "    }\n",
       "\n",
       "    .dataframe tbody tr th {\n",
       "        vertical-align: top;\n",
       "    }\n",
       "\n",
       "    .dataframe thead th {\n",
       "        text-align: right;\n",
       "    }\n",
       "</style>\n",
       "<table border=\"1\" class=\"dataframe\">\n",
       "  <thead>\n",
       "    <tr style=\"text-align: right;\">\n",
       "      <th></th>\n",
       "      <th>age</th>\n",
       "      <th>gender</th>\n",
       "      <th>raceethnicity</th>\n",
       "      <th>month</th>\n",
       "      <th>day</th>\n",
       "      <th>city</th>\n",
       "      <th>state</th>\n",
       "      <th>lawenforcementagency</th>\n",
       "      <th>cause</th>\n",
       "      <th>armed</th>\n",
       "      <th>pop</th>\n",
       "      <th>share_white</th>\n",
       "      <th>share_black</th>\n",
       "      <th>share_hispanic</th>\n",
       "      <th>pov</th>\n",
       "      <th>urate</th>\n",
       "      <th>college</th>\n",
       "    </tr>\n",
       "  </thead>\n",
       "  <tbody>\n",
       "    <tr>\n",
       "      <th>0</th>\n",
       "      <td>16</td>\n",
       "      <td>Male</td>\n",
       "      <td>Black</td>\n",
       "      <td>February</td>\n",
       "      <td>23</td>\n",
       "      <td>Millbrook</td>\n",
       "      <td>AL</td>\n",
       "      <td>Millbrook Police Department</td>\n",
       "      <td>Gunshot</td>\n",
       "      <td>No</td>\n",
       "      <td>3779</td>\n",
       "      <td>60.5</td>\n",
       "      <td>30.5</td>\n",
       "      <td>5.6</td>\n",
       "      <td>14.1</td>\n",
       "      <td>0.097686</td>\n",
       "      <td>0.168510</td>\n",
       "    </tr>\n",
       "    <tr>\n",
       "      <th>1</th>\n",
       "      <td>27</td>\n",
       "      <td>Male</td>\n",
       "      <td>White</td>\n",
       "      <td>April</td>\n",
       "      <td>2</td>\n",
       "      <td>Pineville</td>\n",
       "      <td>LA</td>\n",
       "      <td>Rapides Parish Sheriff's Office</td>\n",
       "      <td>Gunshot</td>\n",
       "      <td>No</td>\n",
       "      <td>2769</td>\n",
       "      <td>53.8</td>\n",
       "      <td>36.2</td>\n",
       "      <td>0.5</td>\n",
       "      <td>28.8</td>\n",
       "      <td>0.065724</td>\n",
       "      <td>0.111402</td>\n",
       "    </tr>\n",
       "    <tr>\n",
       "      <th>2</th>\n",
       "      <td>26</td>\n",
       "      <td>Male</td>\n",
       "      <td>White</td>\n",
       "      <td>March</td>\n",
       "      <td>14</td>\n",
       "      <td>Kenosha</td>\n",
       "      <td>WI</td>\n",
       "      <td>Kenosha Police Department</td>\n",
       "      <td>Gunshot</td>\n",
       "      <td>No</td>\n",
       "      <td>4079</td>\n",
       "      <td>73.8</td>\n",
       "      <td>7.7</td>\n",
       "      <td>16.8</td>\n",
       "      <td>14.6</td>\n",
       "      <td>0.166293</td>\n",
       "      <td>0.147312</td>\n",
       "    </tr>\n",
       "    <tr>\n",
       "      <th>3</th>\n",
       "      <td>25</td>\n",
       "      <td>Male</td>\n",
       "      <td>Hispanic/Latino</td>\n",
       "      <td>March</td>\n",
       "      <td>11</td>\n",
       "      <td>South Gate</td>\n",
       "      <td>CA</td>\n",
       "      <td>South Gate Police Department</td>\n",
       "      <td>Gunshot</td>\n",
       "      <td>Firearm</td>\n",
       "      <td>4343</td>\n",
       "      <td>1.2</td>\n",
       "      <td>0.6</td>\n",
       "      <td>98.8</td>\n",
       "      <td>11.7</td>\n",
       "      <td>0.124827</td>\n",
       "      <td>0.050133</td>\n",
       "    </tr>\n",
       "    <tr>\n",
       "      <th>4</th>\n",
       "      <td>29</td>\n",
       "      <td>Male</td>\n",
       "      <td>White</td>\n",
       "      <td>March</td>\n",
       "      <td>19</td>\n",
       "      <td>Munroe Falls</td>\n",
       "      <td>OH</td>\n",
       "      <td>Kent Police Department</td>\n",
       "      <td>Gunshot</td>\n",
       "      <td>No</td>\n",
       "      <td>6809</td>\n",
       "      <td>92.5</td>\n",
       "      <td>1.4</td>\n",
       "      <td>1.7</td>\n",
       "      <td>1.9</td>\n",
       "      <td>0.063550</td>\n",
       "      <td>0.403954</td>\n",
       "    </tr>\n",
       "  </tbody>\n",
       "</table>\n",
       "</div>"
      ],
      "text/plain": [
       "  age gender    raceethnicity     month  day          city state  \\\n",
       "0  16   Male            Black  February   23     Millbrook    AL   \n",
       "1  27   Male            White     April    2     Pineville    LA   \n",
       "2  26   Male            White     March   14       Kenosha    WI   \n",
       "3  25   Male  Hispanic/Latino     March   11    South Gate    CA   \n",
       "4  29   Male            White     March   19  Munroe Falls    OH   \n",
       "\n",
       "              lawenforcementagency    cause    armed   pop share_white  \\\n",
       "0      Millbrook Police Department  Gunshot       No  3779        60.5   \n",
       "1  Rapides Parish Sheriff's Office  Gunshot       No  2769        53.8   \n",
       "2        Kenosha Police Department  Gunshot       No  4079        73.8   \n",
       "3     South Gate Police Department  Gunshot  Firearm  4343         1.2   \n",
       "4           Kent Police Department  Gunshot       No  6809        92.5   \n",
       "\n",
       "  share_black share_hispanic   pov     urate   college  \n",
       "0        30.5            5.6  14.1  0.097686  0.168510  \n",
       "1        36.2            0.5  28.8  0.065724  0.111402  \n",
       "2         7.7           16.8  14.6  0.166293  0.147312  \n",
       "3         0.6           98.8  11.7  0.124827  0.050133  \n",
       "4         1.4            1.7   1.9  0.063550  0.403954  "
      ]
     },
     "execution_count": 13,
     "metadata": {},
     "output_type": "execute_result"
    }
   ],
   "source": [
    "data.drop_duplicates(inplace=True)\n",
    "data.head()"
   ]
  },
  {
   "cell_type": "code",
   "execution_count": 14,
   "id": "85b6d828",
   "metadata": {},
   "outputs": [
    {
     "data": {
      "text/html": [
       "<div>\n",
       "<style scoped>\n",
       "    .dataframe tbody tr th:only-of-type {\n",
       "        vertical-align: middle;\n",
       "    }\n",
       "\n",
       "    .dataframe tbody tr th {\n",
       "        vertical-align: top;\n",
       "    }\n",
       "\n",
       "    .dataframe thead th {\n",
       "        text-align: right;\n",
       "    }\n",
       "</style>\n",
       "<table border=\"1\" class=\"dataframe\">\n",
       "  <thead>\n",
       "    <tr style=\"text-align: right;\">\n",
       "      <th></th>\n",
       "      <th>day</th>\n",
       "      <th>pop</th>\n",
       "      <th>pov</th>\n",
       "      <th>urate</th>\n",
       "      <th>college</th>\n",
       "    </tr>\n",
       "  </thead>\n",
       "  <tbody>\n",
       "    <tr>\n",
       "      <th>count</th>\n",
       "      <td>467.000000</td>\n",
       "      <td>467.000000</td>\n",
       "      <td>465.000000</td>\n",
       "      <td>465.000000</td>\n",
       "      <td>465.000000</td>\n",
       "    </tr>\n",
       "    <tr>\n",
       "      <th>mean</th>\n",
       "      <td>15.830835</td>\n",
       "      <td>4783.719486</td>\n",
       "      <td>21.111613</td>\n",
       "      <td>0.117399</td>\n",
       "      <td>0.220217</td>\n",
       "    </tr>\n",
       "    <tr>\n",
       "      <th>std</th>\n",
       "      <td>8.658970</td>\n",
       "      <td>2374.565749</td>\n",
       "      <td>13.215960</td>\n",
       "      <td>0.069175</td>\n",
       "      <td>0.158347</td>\n",
       "    </tr>\n",
       "    <tr>\n",
       "      <th>min</th>\n",
       "      <td>1.000000</td>\n",
       "      <td>0.000000</td>\n",
       "      <td>1.100000</td>\n",
       "      <td>0.011335</td>\n",
       "      <td>0.013547</td>\n",
       "    </tr>\n",
       "    <tr>\n",
       "      <th>25%</th>\n",
       "      <td>8.000000</td>\n",
       "      <td>3357.500000</td>\n",
       "      <td>10.900000</td>\n",
       "      <td>0.068592</td>\n",
       "      <td>0.106167</td>\n",
       "    </tr>\n",
       "    <tr>\n",
       "      <th>50%</th>\n",
       "      <td>16.000000</td>\n",
       "      <td>4447.000000</td>\n",
       "      <td>18.200000</td>\n",
       "      <td>0.105181</td>\n",
       "      <td>0.169544</td>\n",
       "    </tr>\n",
       "    <tr>\n",
       "      <th>75%</th>\n",
       "      <td>23.000000</td>\n",
       "      <td>5815.500000</td>\n",
       "      <td>28.700000</td>\n",
       "      <td>0.140833</td>\n",
       "      <td>0.284542</td>\n",
       "    </tr>\n",
       "    <tr>\n",
       "      <th>max</th>\n",
       "      <td>31.000000</td>\n",
       "      <td>26826.000000</td>\n",
       "      <td>79.200000</td>\n",
       "      <td>0.507614</td>\n",
       "      <td>0.828070</td>\n",
       "    </tr>\n",
       "  </tbody>\n",
       "</table>\n",
       "</div>"
      ],
      "text/plain": [
       "              day           pop         pov       urate     college\n",
       "count  467.000000    467.000000  465.000000  465.000000  465.000000\n",
       "mean    15.830835   4783.719486   21.111613    0.117399    0.220217\n",
       "std      8.658970   2374.565749   13.215960    0.069175    0.158347\n",
       "min      1.000000      0.000000    1.100000    0.011335    0.013547\n",
       "25%      8.000000   3357.500000   10.900000    0.068592    0.106167\n",
       "50%     16.000000   4447.000000   18.200000    0.105181    0.169544\n",
       "75%     23.000000   5815.500000   28.700000    0.140833    0.284542\n",
       "max     31.000000  26826.000000   79.200000    0.507614    0.828070"
      ]
     },
     "execution_count": 14,
     "metadata": {},
     "output_type": "execute_result"
    }
   ],
   "source": [
    "data.describe()"
   ]
  },
  {
   "cell_type": "code",
   "execution_count": 15,
   "id": "f642eb19",
   "metadata": {},
   "outputs": [
    {
     "data": {
      "text/plain": [
       "Male      445\n",
       "Female     22\n",
       "Name: gender, dtype: int64"
      ]
     },
     "execution_count": 15,
     "metadata": {},
     "output_type": "execute_result"
    }
   ],
   "source": [
    "#Frequency of gender affected\n",
    "data['gender'].value_counts()"
   ]
  },
  {
   "cell_type": "code",
   "execution_count": 16,
   "id": "e597d4c1",
   "metadata": {},
   "outputs": [
    {
     "data": {
      "image/png": "[encoded data removed]",
      "text/plain": [
       "<Figure size 432x288 with 1 Axes>"
      ]
     },
     "metadata": {
      "needs_background": "light"
     },
     "output_type": "display_data"
    }
   ],
   "source": [
    "data['gender'].value_counts().sort_values().plot(kind='barh')\n",
    "plt.title('Police killings per Gender')\n",
    "plt.show()"
   ]
  },
  {
   "cell_type": "code",
   "execution_count": 17,
   "id": "b4206d42",
   "metadata": {},
   "outputs": [
    {
     "data": {
      "text/plain": [
       "Gunshot              411\n",
       "Taser                 27\n",
       "Death in custody      14\n",
       "Struck by vehicle     12\n",
       "Unknown                3\n",
       "Name: cause, dtype: int64"
      ]
     },
     "execution_count": 17,
     "metadata": {},
     "output_type": "execute_result"
    }
   ],
   "source": [
    "#Returns the fequency of the causes of victim deaths\n",
    "data['cause'].value_counts()"
   ]
  },
  {
   "cell_type": "code",
   "execution_count": 18,
   "id": "e0a82b28",
   "metadata": {},
   "outputs": [
    {
     "data": {
      "image/png": "[encoded data removed]",
      "text/plain": [
       "<Figure size 432x288 with 1 Axes>"
      ]
     },
     "metadata": {
      "needs_background": "light"
     },
     "output_type": "display_data"
    }
   ],
   "source": [
    "data['cause'].value_counts().sort_values(ascending=False).plot(kind='bar')\n",
    "plt.title('Causes of Victim Deaths')\n",
    "plt.show()"
   ]
  },
  {
   "cell_type": "code",
   "execution_count": 19,
   "id": "7585a154",
   "metadata": {},
   "outputs": [
    {
     "data": {
      "text/plain": [
       "White                     236\n",
       "Black                     135\n",
       "Hispanic/Latino            67\n",
       "Unknown                    15\n",
       "Asian/Pacific Islander     10\n",
       "Native American             4\n",
       "Name: raceethnicity, dtype: int64"
      ]
     },
     "execution_count": 19,
     "metadata": {},
     "output_type": "execute_result"
    }
   ],
   "source": [
    "#Returns the frequency of race affected \n",
    "data['raceethnicity'].value_counts()"
   ]
  },
  {
   "cell_type": "code",
   "execution_count": 20,
   "id": "b1272240",
   "metadata": {},
   "outputs": [
    {
     "data": {
      "image/png": "[encoded data removed]",
      "text/plain": [
       "<Figure size 432x288 with 1 Axes>"
      ]
     },
     "metadata": {
      "needs_background": "light"
     },
     "output_type": "display_data"
    }
   ],
   "source": [
    "data['raceethnicity'].value_counts().sort_values().plot(kind='barh')\n",
    "plt.title('Race')\n",
    "plt.show()"
   ]
  },
  {
   "cell_type": "code",
   "execution_count": 21,
   "id": "f6dc3ac8",
   "metadata": {},
   "outputs": [
    {
     "data": {
      "text/plain": [
       "Los Angeles Police Department                  10\n",
       "Oklahoma City Police Department                 5\n",
       "Los Angeles County Sheriff's Department         5\n",
       "US Marshals Service                             5\n",
       "Indianapolis Metropolitan Police Department     4\n",
       "Fort Worth Police Department                    4\n",
       "New York Police Department                      4\n",
       "Phoenix Police Department                       4\n",
       "US Border Patrol                                3\n",
       "San Francisco Police Department                 3\n",
       "Name: lawenforcementagency, dtype: int64"
      ]
     },
     "execution_count": 21,
     "metadata": {},
     "output_type": "execute_result"
    }
   ],
   "source": [
    "data['lawenforcementagency'].value_counts().head(10)"
   ]
  },
  {
   "cell_type": "code",
   "execution_count": 22,
   "id": "14bd72bd",
   "metadata": {},
   "outputs": [
    {
     "data": {
      "text/plain": [
       "CA    74\n",
       "TX    46\n",
       "FL    29\n",
       "AZ    25\n",
       "OK    22\n",
       "GA    16\n",
       "NY    14\n",
       "CO    12\n",
       "NJ    11\n",
       "WA    11\n",
       "Name: state, dtype: int64"
      ]
     },
     "execution_count": 22,
     "metadata": {},
     "output_type": "execute_result"
    }
   ],
   "source": [
    "#Returns the top 10 states with high rate of police killings\n",
    "data['state'].value_counts().head(10)"
   ]
  },
  {
   "cell_type": "code",
   "execution_count": 23,
   "id": "0ad35bb8",
   "metadata": {},
   "outputs": [
    {
     "data": {
      "text/plain": [
       "CA    27\n",
       "TX    15\n",
       "OK    14\n",
       "AZ    14\n",
       "FL    14\n",
       "NY     7\n",
       "OR     7\n",
       "NC     7\n",
       "MI     7\n",
       "GA     6\n",
       "Name: state, dtype: int64"
      ]
     },
     "execution_count": 23,
     "metadata": {},
     "output_type": "execute_result"
    }
   ],
   "source": [
    "data[data['raceethnicity']=='White']['state'].value_counts().head(10)"
   ]
  },
  {
   "cell_type": "code",
   "execution_count": 24,
   "id": "ee6a8a56",
   "metadata": {},
   "outputs": [
    {
     "data": {
      "text/plain": [
       "CA    14\n",
       "FL    12\n",
       "TX    10\n",
       "MD     9\n",
       "GA     8\n",
       "OK     7\n",
       "VA     6\n",
       "LA     6\n",
       "NY     6\n",
       "MO     5\n",
       "Name: state, dtype: int64"
      ]
     },
     "execution_count": 24,
     "metadata": {},
     "output_type": "execute_result"
    }
   ],
   "source": [
    "data[data['raceethnicity']=='Black']['state'].value_counts().head(10)"
   ]
  },
  {
   "cell_type": "code",
   "execution_count": 25,
   "id": "de195bbe",
   "metadata": {},
   "outputs": [
    {
     "data": {
      "text/plain": [
       "Gunshot              214\n",
       "Taser                  9\n",
       "Struck by vehicle      8\n",
       "Death in custody       4\n",
       "Unknown                1\n",
       "Name: cause, dtype: int64"
      ]
     },
     "execution_count": 25,
     "metadata": {},
     "output_type": "execute_result"
    }
   ],
   "source": [
    "data[data['raceethnicity']=='White']['cause'].value_counts()"
   ]
  },
  {
   "cell_type": "code",
   "execution_count": 26,
   "id": "c0ba5167",
   "metadata": {},
   "outputs": [
    {
     "data": {
      "text/plain": [
       "Gunshot              110\n",
       "Taser                 13\n",
       "Death in custody       8\n",
       "Struck by vehicle      3\n",
       "Unknown                1\n",
       "Name: cause, dtype: int64"
      ]
     },
     "execution_count": 26,
     "metadata": {},
     "output_type": "execute_result"
    }
   ],
   "source": [
    "data[data['raceethnicity']=='Black']['cause'].value_counts()"
   ]
  },
  {
   "cell_type": "code",
   "execution_count": 27,
   "id": "fedc51c1",
   "metadata": {},
   "outputs": [],
   "source": [
    "data.value_counts?"
   ]
  },
  {
   "cell_type": "code",
   "execution_count": 28,
   "id": "61ad6329",
   "metadata": {},
   "outputs": [
    {
     "data": {
      "text/plain": [
       "raceethnicity           cause            \n",
       "Asian/Pacific Islander  Gunshot                7\n",
       "                        Taser                  2\n",
       "                        Struck by vehicle      1\n",
       "Black                   Gunshot              110\n",
       "                        Taser                 13\n",
       "                        Death in custody       8\n",
       "                        Struck by vehicle      3\n",
       "                        Unknown                1\n",
       "Hispanic/Latino         Gunshot               64\n",
       "                        Death in custody       1\n",
       "                        Taser                  1\n",
       "                        Unknown                1\n",
       "Native American         Gunshot                2\n",
       "                        Death in custody       1\n",
       "                        Taser                  1\n",
       "Unknown                 Gunshot               14\n",
       "                        Taser                  1\n",
       "White                   Gunshot              214\n",
       "                        Taser                  9\n",
       "                        Struck by vehicle      8\n",
       "                        Death in custody       4\n",
       "                        Unknown                1\n",
       "Name: cause, dtype: int64"
      ]
     },
     "execution_count": 28,
     "metadata": {},
     "output_type": "execute_result"
    }
   ],
   "source": [
    "data.groupby('raceethnicity')['cause'].value_counts()\n",
    "#.value_counts(subset=['cause'])"
   ]
  },
  {
   "cell_type": "code",
   "execution_count": 29,
   "id": "ff8137f2",
   "metadata": {},
   "outputs": [
    {
     "data": {
      "text/plain": [
       "Firearm               230\n",
       "No                    102\n",
       "Knife                  68\n",
       "Other                  26\n",
       "Vehicle                18\n",
       "Non-lethal firearm     14\n",
       "Unknown                 7\n",
       "Disputed                2\n",
       "Name: armed, dtype: int64"
      ]
     },
     "execution_count": 29,
     "metadata": {},
     "output_type": "execute_result"
    }
   ],
   "source": [
    "#Returns the frequency of arms possed by victim killed\n",
    "data['armed'].value_counts()"
   ]
  },
  {
   "cell_type": "code",
   "execution_count": 30,
   "id": "72860e2b",
   "metadata": {},
   "outputs": [
    {
     "data": {
      "text/plain": [
       "raceethnicity\n",
       "Asian/Pacific Islander      35301\n",
       "Black                      568802\n",
       "Hispanic/Latino            329278\n",
       "Native American             20524\n",
       "Unknown                     81985\n",
       "White                     1198107\n",
       "Name: pop, dtype: int64"
      ]
     },
     "execution_count": 30,
     "metadata": {},
     "output_type": "execute_result"
    }
   ],
   "source": [
    "#Returns the total population per race\n",
    "data.groupby('raceethnicity')['pop'].sum()"
   ]
  },
  {
   "cell_type": "code",
   "execution_count": 31,
   "id": "989ec759",
   "metadata": {},
   "outputs": [
    {
     "data": {
      "text/plain": [
       "Los Angeles      9\n",
       "Phoenix          6\n",
       "Houston          6\n",
       "Oklahoma City    4\n",
       "San Francisco    4\n",
       "                ..\n",
       "Trenton          1\n",
       "San Manuel       1\n",
       "Wilmore          1\n",
       "Beacon           1\n",
       "Draper           1\n",
       "Name: city, Length: 364, dtype: int64"
      ]
     },
     "execution_count": 31,
     "metadata": {},
     "output_type": "execute_result"
    }
   ],
   "source": [
    "#Returns hte no of times killings happened per city \n",
    "data['city'].value_counts()"
   ]
  },
  {
   "cell_type": "code",
   "execution_count": 32,
   "id": "71924518",
   "metadata": {},
   "outputs": [
    {
     "data": {
      "text/plain": [
       "March       114\n",
       "April        96\n",
       "January      90\n",
       "February     84\n",
       "May          81\n",
       "June          2\n",
       "Name: month, dtype: int64"
      ]
     },
     "execution_count": 32,
     "metadata": {},
     "output_type": "execute_result"
    }
   ],
   "source": [
    "data['month'].value_counts()"
   ]
  },
  {
   "cell_type": "code",
   "execution_count": 33,
   "id": "f79dc008",
   "metadata": {},
   "outputs": [
    {
     "data": {
      "text/plain": [
       "array(['16', '27', '26', '25', '29', '22', '35', '44', '31', '76', '40',\n",
       "       'Unknown', '23', '39', '54', '24', '57', '21', '42', '36', '49',\n",
       "       '48', '33', '41', '45', '32', '18', '34', '62', '43', '50', '46',\n",
       "       '28', '51', '67', '53', '30', '38', '56', '37', '58', '47', '60',\n",
       "       '17', '59', '64', '63', '77', '19', '52', '20', '69', '74', '71',\n",
       "       '72', '61', '87', '55', '68', '83', '75'], dtype=object)"
      ]
     },
     "execution_count": 33,
     "metadata": {},
     "output_type": "execute_result"
    }
   ],
   "source": [
    "data['age'].unique()"
   ]
  },
  {
   "cell_type": "code",
   "execution_count": 34,
   "id": "33280325",
   "metadata": {},
   "outputs": [],
   "source": [
    "data['age']=data['age'].replace('Unknown', np.nan)"
   ]
  },
  {
   "cell_type": "code",
   "execution_count": 35,
   "id": "dd04433a",
   "metadata": {},
   "outputs": [],
   "source": [
    "data.dropna(subset=['age'],inplace=True)"
   ]
  },
  {
   "cell_type": "code",
   "execution_count": 36,
   "id": "62abde2e",
   "metadata": {},
   "outputs": [],
   "source": [
    "data['age']=pd.to_numeric(data['age']).astype('int64')"
   ]
  },
  {
   "cell_type": "code",
   "execution_count": 37,
   "id": "bf5d8604",
   "metadata": {},
   "outputs": [
    {
     "data": {
      "text/plain": [
       "Millennials     229\n",
       "Gen X           116\n",
       "Gen Z            74\n",
       "Baby Boomers     40\n",
       "Old               4\n",
       "Name: AgeGroups, dtype: int64"
      ]
     },
     "execution_count": 37,
     "metadata": {},
     "output_type": "execute_result"
    }
   ],
   "source": [
    "def age_groups(age):\n",
    "    if age<=24:\n",
    "        return 'Gen Z'\n",
    "    elif age>=25 and age<=40:\n",
    "        return 'Millennials'\n",
    "    elif age>=41 and age<=56:\n",
    "        return 'Gen X'\n",
    "    elif age>=57 and age<=75:\n",
    "        return 'Baby Boomers'\n",
    "    else:\n",
    "        return 'Old'\n",
    "data['AgeGroups']= data['age'].apply(age_groups)\n",
    "data['AgeGroups'].value_counts()\n"
   ]
  },
  {
   "cell_type": "code",
   "execution_count": 38,
   "id": "7c70dade",
   "metadata": {},
   "outputs": [
    {
     "data": {
      "text/plain": [
       "AgeGroups     armed             \n",
       "Baby Boomers  Firearm                17\n",
       "              No                     15\n",
       "              Knife                   4\n",
       "              Non-lethal firearm      2\n",
       "              Disputed                1\n",
       "              Other                   1\n",
       "Gen X         Firearm                65\n",
       "              No                     23\n",
       "              Knife                  14\n",
       "              Other                   5\n",
       "              Non-lethal firearm      4\n",
       "              Vehicle                 4\n",
       "              Unknown                 1\n",
       "Gen Z         Firearm                33\n",
       "              Knife                  18\n",
       "              No                     12\n",
       "              Other                   5\n",
       "              Non-lethal firearm      3\n",
       "              Vehicle                 2\n",
       "              Unknown                 1\n",
       "Millennials   Firearm               113\n",
       "              No                     49\n",
       "              Knife                  30\n",
       "              Other                  14\n",
       "              Vehicle                12\n",
       "              Non-lethal firearm      5\n",
       "              Unknown                 5\n",
       "              Disputed                1\n",
       "Old           No                      2\n",
       "              Firearm                 1\n",
       "              Knife                   1\n",
       "Name: armed, dtype: int64"
      ]
     },
     "execution_count": 38,
     "metadata": {},
     "output_type": "execute_result"
    }
   ],
   "source": [
    "data.groupby('AgeGroups')['armed'].value_counts()"
   ]
  },
  {
   "cell_type": "markdown",
   "id": "9c1d7d88",
   "metadata": {},
   "source": [
    "## Questioning of the data"
   ]
  },
  {
   "cell_type": "markdown",
   "id": "da933a98",
   "metadata": {},
   "source": [
    "Could poverty be a factor that led to high rate of police killings?"
   ]
  },
  {
   "cell_type": "code",
   "execution_count": 39,
   "id": "74761c8c",
   "metadata": {},
   "outputs": [
    {
     "data": {
      "text/plain": [
       "state\n",
       "CA    1516.6\n",
       "TX     927.3\n",
       "FL     668.3\n",
       "AZ     589.3\n",
       "OK     515.3\n",
       "LA     365.4\n",
       "MO     326.8\n",
       "GA     292.3\n",
       "NC     282.4\n",
       "WA     268.8\n",
       "Name: pov, dtype: float64"
      ]
     },
     "execution_count": 39,
     "metadata": {},
     "output_type": "execute_result"
    }
   ],
   "source": [
    "#Returns the top 10 state with the high poverty rate\n",
    "data.groupby('state')['pov'].sum().sort_values(ascending=False).head(10)"
   ]
  },
  {
   "cell_type": "markdown",
   "id": "3353d575",
   "metadata": {},
   "source": [
    "Could Umeployment Rate be a factor?"
   ]
  },
  {
   "cell_type": "code",
   "execution_count": 40,
   "id": "4d702927",
   "metadata": {},
   "outputs": [
    {
     "data": {
      "text/plain": [
       "state\n",
       "CA    9.356941\n",
       "FL    4.031929\n",
       "TX    3.825384\n",
       "AZ    3.050823\n",
       "GA    1.973049\n",
       "OK    1.959362\n",
       "NC    1.852623\n",
       "MO    1.848852\n",
       "MD    1.811807\n",
       "IL    1.729155\n",
       "Name: urate, dtype: float64"
      ]
     },
     "execution_count": 40,
     "metadata": {},
     "output_type": "execute_result"
    }
   ],
   "source": [
    "data.groupby('state')['urate'].sum().sort_values(ascending=False).head(10)"
   ]
  },
  {
   "cell_type": "markdown",
   "id": "64952650",
   "metadata": {},
   "source": [
    "Could population be a factor that led to high rate of police killings?"
   ]
  },
  {
   "cell_type": "code",
   "execution_count": 41,
   "id": "fbae76cb",
   "metadata": {},
   "outputs": [
    {
     "data": {
      "text/html": [
       "<div>\n",
       "<style scoped>\n",
       "    .dataframe tbody tr th:only-of-type {\n",
       "        vertical-align: middle;\n",
       "    }\n",
       "\n",
       "    .dataframe tbody tr th {\n",
       "        vertical-align: top;\n",
       "    }\n",
       "\n",
       "    .dataframe thead th {\n",
       "        text-align: right;\n",
       "    }\n",
       "</style>\n",
       "<table border=\"1\" class=\"dataframe\">\n",
       "  <thead>\n",
       "    <tr style=\"text-align: right;\">\n",
       "      <th></th>\n",
       "      <th>pop</th>\n",
       "    </tr>\n",
       "    <tr>\n",
       "      <th>state</th>\n",
       "      <th></th>\n",
       "    </tr>\n",
       "  </thead>\n",
       "  <tbody>\n",
       "    <tr>\n",
       "      <th>CA</th>\n",
       "      <td>372999</td>\n",
       "    </tr>\n",
       "    <tr>\n",
       "      <th>TX</th>\n",
       "      <td>216944</td>\n",
       "    </tr>\n",
       "    <tr>\n",
       "      <th>FL</th>\n",
       "      <td>177150</td>\n",
       "    </tr>\n",
       "    <tr>\n",
       "      <th>AZ</th>\n",
       "      <td>111678</td>\n",
       "    </tr>\n",
       "    <tr>\n",
       "      <th>GA</th>\n",
       "      <td>88187</td>\n",
       "    </tr>\n",
       "    <tr>\n",
       "      <th>OK</th>\n",
       "      <td>86565</td>\n",
       "    </tr>\n",
       "    <tr>\n",
       "      <th>NJ</th>\n",
       "      <td>64324</td>\n",
       "    </tr>\n",
       "    <tr>\n",
       "      <th>NY</th>\n",
       "      <td>61268</td>\n",
       "    </tr>\n",
       "    <tr>\n",
       "      <th>WA</th>\n",
       "      <td>52585</td>\n",
       "    </tr>\n",
       "    <tr>\n",
       "      <th>CO</th>\n",
       "      <td>49239</td>\n",
       "    </tr>\n",
       "    <tr>\n",
       "      <th>NC</th>\n",
       "      <td>47119</td>\n",
       "    </tr>\n",
       "    <tr>\n",
       "      <th>SC</th>\n",
       "      <td>46413</td>\n",
       "    </tr>\n",
       "    <tr>\n",
       "      <th>VA</th>\n",
       "      <td>46372</td>\n",
       "    </tr>\n",
       "    <tr>\n",
       "      <th>MO</th>\n",
       "      <td>41804</td>\n",
       "    </tr>\n",
       "    <tr>\n",
       "      <th>IN</th>\n",
       "      <td>40629</td>\n",
       "    </tr>\n",
       "    <tr>\n",
       "      <th>OR</th>\n",
       "      <td>40241</td>\n",
       "    </tr>\n",
       "    <tr>\n",
       "      <th>AL</th>\n",
       "      <td>39215</td>\n",
       "    </tr>\n",
       "    <tr>\n",
       "      <th>IL</th>\n",
       "      <td>37178</td>\n",
       "    </tr>\n",
       "    <tr>\n",
       "      <th>KY</th>\n",
       "      <td>36048</td>\n",
       "    </tr>\n",
       "    <tr>\n",
       "      <th>UT</th>\n",
       "      <td>34422</td>\n",
       "    </tr>\n",
       "    <tr>\n",
       "      <th>MD</th>\n",
       "      <td>34322</td>\n",
       "    </tr>\n",
       "    <tr>\n",
       "      <th>MS</th>\n",
       "      <td>34246</td>\n",
       "    </tr>\n",
       "    <tr>\n",
       "      <th>OH</th>\n",
       "      <td>33675</td>\n",
       "    </tr>\n",
       "    <tr>\n",
       "      <th>MI</th>\n",
       "      <td>31259</td>\n",
       "    </tr>\n",
       "    <tr>\n",
       "      <th>PA</th>\n",
       "      <td>30802</td>\n",
       "    </tr>\n",
       "    <tr>\n",
       "      <th>ID</th>\n",
       "      <td>29705</td>\n",
       "    </tr>\n",
       "    <tr>\n",
       "      <th>LA</th>\n",
       "      <td>29028</td>\n",
       "    </tr>\n",
       "    <tr>\n",
       "      <th>TN</th>\n",
       "      <td>28879</td>\n",
       "    </tr>\n",
       "    <tr>\n",
       "      <th>NM</th>\n",
       "      <td>26366</td>\n",
       "    </tr>\n",
       "    <tr>\n",
       "      <th>NE</th>\n",
       "      <td>24208</td>\n",
       "    </tr>\n",
       "    <tr>\n",
       "      <th>KS</th>\n",
       "      <td>23950</td>\n",
       "    </tr>\n",
       "    <tr>\n",
       "      <th>WI</th>\n",
       "      <td>23742</td>\n",
       "    </tr>\n",
       "    <tr>\n",
       "      <th>MN</th>\n",
       "      <td>23216</td>\n",
       "    </tr>\n",
       "    <tr>\n",
       "      <th>MA</th>\n",
       "      <td>21992</td>\n",
       "    </tr>\n",
       "    <tr>\n",
       "      <th>DE</th>\n",
       "      <td>18041</td>\n",
       "    </tr>\n",
       "    <tr>\n",
       "      <th>AR</th>\n",
       "      <td>14337</td>\n",
       "    </tr>\n",
       "    <tr>\n",
       "      <th>HI</th>\n",
       "      <td>13867</td>\n",
       "    </tr>\n",
       "    <tr>\n",
       "      <th>NV</th>\n",
       "      <td>12761</td>\n",
       "    </tr>\n",
       "    <tr>\n",
       "      <th>MT</th>\n",
       "      <td>11102</td>\n",
       "    </tr>\n",
       "    <tr>\n",
       "      <th>WY</th>\n",
       "      <td>8988</td>\n",
       "    </tr>\n",
       "    <tr>\n",
       "      <th>AK</th>\n",
       "      <td>8352</td>\n",
       "    </tr>\n",
       "    <tr>\n",
       "      <th>IA</th>\n",
       "      <td>8152</td>\n",
       "    </tr>\n",
       "    <tr>\n",
       "      <th>WV</th>\n",
       "      <td>6547</td>\n",
       "    </tr>\n",
       "    <tr>\n",
       "      <th>NH</th>\n",
       "      <td>4521</td>\n",
       "    </tr>\n",
       "    <tr>\n",
       "      <th>CT</th>\n",
       "      <td>4066</td>\n",
       "    </tr>\n",
       "    <tr>\n",
       "      <th>ME</th>\n",
       "      <td>3045</td>\n",
       "    </tr>\n",
       "    <tr>\n",
       "      <th>DC</th>\n",
       "      <td>2664</td>\n",
       "    </tr>\n",
       "  </tbody>\n",
       "</table>\n",
       "</div>"
      ],
      "text/plain": [
       "          pop\n",
       "state        \n",
       "CA     372999\n",
       "TX     216944\n",
       "FL     177150\n",
       "AZ     111678\n",
       "GA      88187\n",
       "OK      86565\n",
       "NJ      64324\n",
       "NY      61268\n",
       "WA      52585\n",
       "CO      49239\n",
       "NC      47119\n",
       "SC      46413\n",
       "VA      46372\n",
       "MO      41804\n",
       "IN      40629\n",
       "OR      40241\n",
       "AL      39215\n",
       "IL      37178\n",
       "KY      36048\n",
       "UT      34422\n",
       "MD      34322\n",
       "MS      34246\n",
       "OH      33675\n",
       "MI      31259\n",
       "PA      30802\n",
       "ID      29705\n",
       "LA      29028\n",
       "TN      28879\n",
       "NM      26366\n",
       "NE      24208\n",
       "KS      23950\n",
       "WI      23742\n",
       "MN      23216\n",
       "MA      21992\n",
       "DE      18041\n",
       "AR      14337\n",
       "HI      13867\n",
       "NV      12761\n",
       "MT      11102\n",
       "WY       8988\n",
       "AK       8352\n",
       "IA       8152\n",
       "WV       6547\n",
       "NH       4521\n",
       "CT       4066\n",
       "ME       3045\n",
       "DC       2664"
      ]
     },
     "execution_count": 41,
     "metadata": {},
     "output_type": "execute_result"
    }
   ],
   "source": [
    "data.pivot_table(index='state',values=['pop'], aggfunc=np.sum).sort_values(by='pop',ascending=False)"
   ]
  },
  {
   "cell_type": "code",
   "execution_count": 42,
   "id": "26023b56",
   "metadata": {},
   "outputs": [
    {
     "data": {
      "text/html": [
       "<div>\n",
       "<style scoped>\n",
       "    .dataframe tbody tr th:only-of-type {\n",
       "        vertical-align: middle;\n",
       "    }\n",
       "\n",
       "    .dataframe tbody tr th {\n",
       "        vertical-align: top;\n",
       "    }\n",
       "\n",
       "    .dataframe thead th {\n",
       "        text-align: right;\n",
       "    }\n",
       "</style>\n",
       "<table border=\"1\" class=\"dataframe\">\n",
       "  <thead>\n",
       "    <tr style=\"text-align: right;\">\n",
       "      <th></th>\n",
       "      <th>pop</th>\n",
       "    </tr>\n",
       "    <tr>\n",
       "      <th>AgeGroups</th>\n",
       "      <th></th>\n",
       "    </tr>\n",
       "  </thead>\n",
       "  <tbody>\n",
       "    <tr>\n",
       "      <th>Baby Boomers</th>\n",
       "      <td>181952</td>\n",
       "    </tr>\n",
       "    <tr>\n",
       "      <th>Gen X</th>\n",
       "      <td>533593</td>\n",
       "    </tr>\n",
       "    <tr>\n",
       "      <th>Gen Z</th>\n",
       "      <td>344145</td>\n",
       "    </tr>\n",
       "    <tr>\n",
       "      <th>Millennials</th>\n",
       "      <td>1126672</td>\n",
       "    </tr>\n",
       "    <tr>\n",
       "      <th>Old</th>\n",
       "      <td>15851</td>\n",
       "    </tr>\n",
       "  </tbody>\n",
       "</table>\n",
       "</div>"
      ],
      "text/plain": [
       "                  pop\n",
       "AgeGroups            \n",
       "Baby Boomers   181952\n",
       "Gen X          533593\n",
       "Gen Z          344145\n",
       "Millennials   1126672\n",
       "Old             15851"
      ]
     },
     "execution_count": 42,
     "metadata": {},
     "output_type": "execute_result"
    }
   ],
   "source": [
    "#Returns the population rate for the age groups affected\n",
    "data.pivot_table(index='AgeGroups',values='pop', aggfunc=np.sum)"
   ]
  },
  {
   "cell_type": "code",
   "execution_count": 43,
   "id": "d8cf2c53",
   "metadata": {},
   "outputs": [
    {
     "data": {
      "text/html": [
       "<div>\n",
       "<style scoped>\n",
       "    .dataframe tbody tr th:only-of-type {\n",
       "        vertical-align: middle;\n",
       "    }\n",
       "\n",
       "    .dataframe tbody tr th {\n",
       "        vertical-align: top;\n",
       "    }\n",
       "\n",
       "    .dataframe thead th {\n",
       "        text-align: right;\n",
       "    }\n",
       "</style>\n",
       "<table border=\"1\" class=\"dataframe\">\n",
       "  <thead>\n",
       "    <tr style=\"text-align: right;\">\n",
       "      <th></th>\n",
       "      <th>pop</th>\n",
       "    </tr>\n",
       "    <tr>\n",
       "      <th>raceethnicity</th>\n",
       "      <th></th>\n",
       "    </tr>\n",
       "  </thead>\n",
       "  <tbody>\n",
       "    <tr>\n",
       "      <th>Asian/Pacific Islander</th>\n",
       "      <td>35301</td>\n",
       "    </tr>\n",
       "    <tr>\n",
       "      <th>Black</th>\n",
       "      <td>568802</td>\n",
       "    </tr>\n",
       "    <tr>\n",
       "      <th>Hispanic/Latino</th>\n",
       "      <td>318050</td>\n",
       "    </tr>\n",
       "    <tr>\n",
       "      <th>Native American</th>\n",
       "      <td>20524</td>\n",
       "    </tr>\n",
       "    <tr>\n",
       "      <th>Unknown</th>\n",
       "      <td>68281</td>\n",
       "    </tr>\n",
       "    <tr>\n",
       "      <th>White</th>\n",
       "      <td>1191255</td>\n",
       "    </tr>\n",
       "  </tbody>\n",
       "</table>\n",
       "</div>"
      ],
      "text/plain": [
       "                            pop\n",
       "raceethnicity                  \n",
       "Asian/Pacific Islander    35301\n",
       "Black                    568802\n",
       "Hispanic/Latino          318050\n",
       "Native American           20524\n",
       "Unknown                   68281\n",
       "White                   1191255"
      ]
     },
     "execution_count": 43,
     "metadata": {},
     "output_type": "execute_result"
    }
   ],
   "source": [
    "#Returns population rate per race ethnicity\n",
    "data.pivot_table(index='raceethnicity',values='pop', aggfunc=np.sum)"
   ]
  },
  {
   "cell_type": "code",
   "execution_count": 44,
   "id": "61c8af39",
   "metadata": {},
   "outputs": [
    {
     "data": {
      "text/plain": [
       "('March', 17)"
      ]
     },
     "execution_count": 44,
     "metadata": {},
     "output_type": "execute_result"
    }
   ],
   "source": [
    "#Returns the month and day with the highest number of victims killed\n",
    "data.groupby('month')['day'].value_counts().idxmax()"
   ]
  },
  {
   "cell_type": "code",
   "execution_count": null,
   "id": "84eea82e",
   "metadata": {},
   "outputs": [],
   "source": []
  }
 ],
 "metadata": {
  "kernelspec": {
   "display_name": "Python 3",
   "language": "python",
   "name": "python3"
  },
  "language_info": {
   "codemirror_mode": {
    "name": "ipython",
    "version": 3
   },
   "file_extension": ".py",
   "mimetype": "text/x-python",
   "name": "python",
   "nbconvert_exporter": "python",
   "pygments_lexer": "ipython3",
   "version": "3.8.8"
  }
 },
 "nbformat": 4,
 "nbformat_minor": 5
}
